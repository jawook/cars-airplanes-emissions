{
 "cells": [
  {
   "cell_type": "code",
   "execution_count": 79,
   "id": "2381c5e7",
   "metadata": {},
   "outputs": [],
   "source": [
    "import pandas as pd\n",
    "from bs4 import BeautifulSoup\n",
    "import requests\n",
    "\n",
    "# retrieve html contents of the wikipedia page that contains aircraft fuel consumption data\n",
    "planeUrl = 'https://en.wikipedia.org/wiki/Fuel_economy_in_aircraft'\n",
    "tableClass = 'wikitable sortable jquery-tablesorter'\n",
    "response = requests.get(planeUrl)"
   ]
  },
  {
   "cell_type": "code",
   "execution_count": 80,
   "id": "5d183ae4",
   "metadata": {},
   "outputs": [],
   "source": [
    "# build a soup object of the wiki page and extract all of the tables\n",
    "planeSoup = BeautifulSoup(response.text, 'html.parser')\n",
    "planeTables = planeSoup.find_all('table', {'class':'wikitable'})"
   ]
  },
  {
   "cell_type": "code",
   "execution_count": 81,
   "id": "0cda9608",
   "metadata": {},
   "outputs": [],
   "source": [
    "# convert tables to a list of dataframes\n",
    "planedfList = pd.read_html(str(planeTables))"
   ]
  },
  {
   "cell_type": "code",
   "execution_count": 82,
   "id": "9b5f5d7e",
   "metadata": {},
   "outputs": [],
   "source": [
    "# build a dictionary of all of the raw dataframes\n",
    "allPlanes = {'Commuter': planedfList[0],\n",
    "             'Regional': planedfList[1],\n",
    "             'Short-Haul': planedfList[2],\n",
    "             'Medium-Haul': planedfList[3],\n",
    "             'Long-Haul': planedfList[4]}"
   ]
  },
  {
   "cell_type": "code",
   "execution_count": 83,
   "id": "3178ac6d",
   "metadata": {},
   "outputs": [],
   "source": [
    "#standardize column names and add 'sector' for all tables\n",
    "allPlanes['Commuter']['Sector'] = '300 nmi (560 km)'\n",
    "allPlanes['Short-Haul']['Sector'] = '1,000 nmi (1,900 km)'\n",
    "allPlanes['Short-Haul'].rename(columns={'Fuel Burn': 'Fuel burn', 'Fuel efficiency per seat': 'Fuel per seat'},\n",
    "                              inplace=True)\n",
    "allPlanes['Regional'].rename(columns={'Fuel efficiency per seat': 'Fuel per seat'}, inplace=True)"
   ]
  },
  {
   "cell_type": "code",
   "execution_count": 84,
   "id": "87ecfb4f",
   "metadata": {},
   "outputs": [],
   "source": [
    "planeList = pd.DataFrame(columns=allPlanes['Commuter'].columns)\n",
    "for j in allPlanes:\n",
    "    allPlanes[j]['Fuel Efficiency (L/100km)'] = allPlanes[j]['Fuel per seat'].str.extract(r'([0-9\\.]+\\sL)').replace('\\sL', '', regex=True).astype('float')\n",
    "    allPlanes[j]['Sector'] = allPlanes[j]['Sector'].str.extract(r'([0-9\\.]+\\skm)').replace('\\skm', '', regex=True).astype('int')\n",
    "    allPlanes[j].drop(columns=['Fuel burn', 'Fuel per seat'], inplace=True)\n",
    "    allPlanes[j]['Sector'] = allPlanes[j]['Sector'].astype('int')\n",
    "    allPlanes[j]['Class'] = str(j)\n",
    "    planeList = pd.concat([planeList, allPlanes[j]])\n",
    "planeList.to_csv('planes.csv')"
   ]
  },
  {
   "cell_type": "code",
   "execution_count": 85,
   "id": "d93568f5",
   "metadata": {},
   "outputs": [],
   "source": [
    "carUrl = 'https://www.nrcan.gc.ca/sites/nrcan/files/oee/files/csv/MY2022%20Fuel%20Consumption%20Ratings.csv'\n",
    "dfAllCars = pd.read_csv(carUrl, encoding_errors='ignore', low_memory=False)\n",
    "\n",
    "dfAllCars = dfAllCars[['Model', 'Make', 'Model.1', 'Vehicle Class', 'Engine Size', 'Cylinders',\n",
    "                       'Transmission', 'Fuel', 'Fuel Consumption', 'Unnamed: 9', 'Unnamed: 10',\n",
    "                       'Unnamed: 11', 'CO2 Emissions', 'CO2']]\n",
    "dfAllCars = dfAllCars.rename(columns={'Model':'Model Year', 'Model.1': 'Model', \n",
    "                                      'Engine Size': 'Engine Size (L)', 'Fuel': 'Fuel Type', \n",
    "                                      'Fuel Consumption': 'Fuel Consumption: City (L/100km)', \n",
    "                                      'Unnamed: 9': 'Fuel Consumption: Highway (L/100km)',\n",
    "                                      'Unnamed: 10': 'Fuel Consumption: Combined (L/100km)',\n",
    "                                      'Unnamed: 11': 'Fuel Consumption: Combined (mpg)',\n",
    "                                      'CO2 Emissions': 'CO2 Emissions (g/km)',\n",
    "                                      'CO2': 'CO2 Ratings'})\n",
    "dfAllCars = dfAllCars[dfAllCars['Model Year'].str.isnumeric() == True]\n",
    "dfAllCars.to_csv('cars.csv')"
   ]
  },
  {
   "cell_type": "code",
   "execution_count": 86,
   "id": "7287401f",
   "metadata": {},
   "outputs": [
    {
     "data": {
      "text/html": [
       "<div>\n",
       "<style scoped>\n",
       "    .dataframe tbody tr th:only-of-type {\n",
       "        vertical-align: middle;\n",
       "    }\n",
       "\n",
       "    .dataframe tbody tr th {\n",
       "        vertical-align: top;\n",
       "    }\n",
       "\n",
       "    .dataframe thead th {\n",
       "        text-align: right;\n",
       "    }\n",
       "</style>\n",
       "<table border=\"1\" class=\"dataframe\">\n",
       "  <thead>\n",
       "    <tr style=\"text-align: right;\">\n",
       "      <th></th>\n",
       "      <th>Model</th>\n",
       "      <th>First flight</th>\n",
       "      <th>Seats</th>\n",
       "      <th>Fuel burn</th>\n",
       "      <th>Fuel per seat</th>\n",
       "      <th>Sector</th>\n",
       "      <th>Fuel Efficiency (L/100km)</th>\n",
       "      <th>Class</th>\n",
       "    </tr>\n",
       "  </thead>\n",
       "  <tbody>\n",
       "    <tr>\n",
       "      <th>0</th>\n",
       "      <td>Antonov An-148 (241 nmi)</td>\n",
       "      <td>2004</td>\n",
       "      <td>89</td>\n",
       "      <td>NaN</td>\n",
       "      <td>NaN</td>\n",
       "      <td>560</td>\n",
       "      <td>5.95</td>\n",
       "      <td>Commuter</td>\n",
       "    </tr>\n",
       "    <tr>\n",
       "      <th>1</th>\n",
       "      <td>Antonov An-158 (241 nmi)</td>\n",
       "      <td>2010</td>\n",
       "      <td>99</td>\n",
       "      <td>NaN</td>\n",
       "      <td>NaN</td>\n",
       "      <td>560</td>\n",
       "      <td>5.47</td>\n",
       "      <td>Commuter</td>\n",
       "    </tr>\n",
       "    <tr>\n",
       "      <th>2</th>\n",
       "      <td>ATR 42-500</td>\n",
       "      <td>1995</td>\n",
       "      <td>48</td>\n",
       "      <td>NaN</td>\n",
       "      <td>NaN</td>\n",
       "      <td>560</td>\n",
       "      <td>3.15</td>\n",
       "      <td>Commuter</td>\n",
       "    </tr>\n",
       "    <tr>\n",
       "      <th>3</th>\n",
       "      <td>ATR 72-500</td>\n",
       "      <td>1997</td>\n",
       "      <td>70</td>\n",
       "      <td>NaN</td>\n",
       "      <td>NaN</td>\n",
       "      <td>560</td>\n",
       "      <td>2.53</td>\n",
       "      <td>Commuter</td>\n",
       "    </tr>\n",
       "    <tr>\n",
       "      <th>4</th>\n",
       "      <td>Beechcraft 1900D (226 nm)</td>\n",
       "      <td>1982</td>\n",
       "      <td>19</td>\n",
       "      <td>NaN</td>\n",
       "      <td>NaN</td>\n",
       "      <td>560</td>\n",
       "      <td>6.57</td>\n",
       "      <td>Commuter</td>\n",
       "    </tr>\n",
       "  </tbody>\n",
       "</table>\n",
       "</div>"
      ],
      "text/plain": [
       "                       Model First flight Seats Fuel burn Fuel per seat  \\\n",
       "0   Antonov An-148 (241 nmi)         2004    89       NaN           NaN   \n",
       "1   Antonov An-158 (241 nmi)         2010    99       NaN           NaN   \n",
       "2                 ATR 42-500         1995    48       NaN           NaN   \n",
       "3                 ATR 72-500         1997    70       NaN           NaN   \n",
       "4  Beechcraft 1900D (226 nm)         1982    19       NaN           NaN   \n",
       "\n",
       "  Sector  Fuel Efficiency (L/100km)     Class  \n",
       "0    560                       5.95  Commuter  \n",
       "1    560                       5.47  Commuter  \n",
       "2    560                       3.15  Commuter  \n",
       "3    560                       2.53  Commuter  \n",
       "4    560                       6.57  Commuter  "
      ]
     },
     "execution_count": 86,
     "metadata": {},
     "output_type": "execute_result"
    }
   ],
   "source": [
    "planeList.head()"
   ]
  },
  {
   "cell_type": "code",
   "execution_count": null,
   "id": "6e09d7b2",
   "metadata": {},
   "outputs": [],
   "source": []
  }
 ],
 "metadata": {
  "kernelspec": {
   "display_name": "Python 3 (ipykernel)",
   "language": "python",
   "name": "python3"
  },
  "language_info": {
   "codemirror_mode": {
    "name": "ipython",
    "version": 3
   },
   "file_extension": ".py",
   "mimetype": "text/x-python",
   "name": "python",
   "nbconvert_exporter": "python",
   "pygments_lexer": "ipython3",
   "version": "3.9.12"
  }
 },
 "nbformat": 4,
 "nbformat_minor": 5
}
