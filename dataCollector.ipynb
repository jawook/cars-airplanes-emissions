{
 "cells": [
  {
   "cell_type": "code",
   "execution_count": 164,
   "id": "2381c5e7",
   "metadata": {},
   "outputs": [],
   "source": [
    "import pandas as pd\n",
    "from bs4 import BeautifulSoup\n",
    "import requests\n",
    "\n",
    "# retrieve html contents of the wikipedia page that contains aircraft fuel consumption data\n",
    "planeUrl = 'https://en.wikipedia.org/wiki/Fuel_economy_in_aircraft'\n",
    "tableClass = 'wikitable sortable jquery-tablesorter'\n",
    "response = requests.get(planeUrl)"
   ]
  },
  {
   "cell_type": "code",
   "execution_count": 165,
   "id": "5d183ae4",
   "metadata": {},
   "outputs": [],
   "source": [
    "# build a soup object of the wiki page and extract all of the tables\n",
    "planeSoup = BeautifulSoup(response.text, 'html.parser')\n",
    "planeTables = planeSoup.find_all('table', {'class':'wikitable'})"
   ]
  },
  {
   "cell_type": "code",
   "execution_count": 166,
   "id": "0cda9608",
   "metadata": {},
   "outputs": [],
   "source": [
    "# convert tables to a list of dataframes\n",
    "planedfList = pd.read_html(str(planeTables))"
   ]
  },
  {
   "cell_type": "code",
   "execution_count": 167,
   "id": "9b5f5d7e",
   "metadata": {},
   "outputs": [],
   "source": [
    "# build a dictionary of all of the raw dataframes\n",
    "allPlanes = {'Commuter': planedfList[0].copy(),\n",
    "             'Regional': planedfList[1].copy(),\n",
    "             'Short-Haul': planedfList[2].copy(),\n",
    "             'Medium-Haul': planedfList[3].copy(),\n",
    "             'Long-Haul': planedfList[4].copy()}"
   ]
  },
  {
   "cell_type": "code",
   "execution_count": 168,
   "id": "3178ac6d",
   "metadata": {},
   "outputs": [],
   "source": [
    "#standardize column names and add 'sector' for all tables\n",
    "allPlanes['Commuter']['Sector'] = '300 nmi (560 km)'\n",
    "allPlanes['Short-Haul']['Sector'] = '1,000 nmi (1,900 km)'\n",
    "allPlanes['Short-Haul'].rename(columns={'Fuel Burn': 'Fuel burn', 'Fuel efficiency per seat': 'Fuel per seat'},\n",
    "                              inplace=True)\n",
    "allPlanes['Regional'].rename(columns={'Fuel efficiency per seat': 'Fuel per seat'}, inplace=True)"
   ]
  },
  {
   "cell_type": "code",
   "execution_count": 169,
   "id": "87ecfb4f",
   "metadata": {},
   "outputs": [],
   "source": [
    "planeList = pd.DataFrame(columns=allPlanes['Commuter'].columns)\n",
    "for j in allPlanes:\n",
    "    allPlanes[j]['Fuel Efficiency (L/100km)'] = allPlanes[j]['Fuel per seat'].str.extract(r'([0-9\\.]+\\sL)').replace('\\sL', '', regex=True).astype('float')\n",
    "    allPlanes[j]['SectorTemp'] = allPlanes[j]['Model'].str.extract(r'([0-9\\.\\,]+\\snmi)').replace('\\snmi', '', regex=True).astype('float')\n",
    "    allPlanes[j]['SectorTemp'] = round(allPlanes[j]['SectorTemp'] * 1.852, 0)\n",
    "    allPlanes[j]['SectorTemp2'] = allPlanes[j]['Sector'].str.extract(r'([0-9\\.\\,]+\\skm)').replace('\\skm', '', regex=True).replace('\\,', '', regex=True).astype('int')\n",
    "    allPlanes[j]['Sector'] = allPlanes[j]['SectorTemp'].fillna(allPlanes[j]['SectorTemp2']).astype('int')\n",
    "    allPlanes[j]['Model'] = allPlanes[j]['Model'].str.replace(r'(\\([0-9\\.\\,]+\\snmi\\))', '', regex=True)\n",
    "    allPlanes[j]['Model'] = allPlanes[j]['Model'].str.replace(r'(\\([0-9\\.\\,]+\\snm\\))', '', regex=True)\n",
    "    allPlanes[j].drop(columns=['Fuel burn', 'Fuel per seat', 'SectorTemp', 'SectorTemp2'], inplace=True)\n",
    "    allPlanes[j]['Sector'] = allPlanes[j]['Sector'].astype('int')\n",
    "    allPlanes[j]['Class'] = (str(j) + ' (' + '{:,.0f}'.format(min(allPlanes[j]['Sector'])) + \n",
    "                             ' - ' + '{:,.0f}'.format(max(allPlanes[j]['Sector'])) + 'km)')\n",
    "    planeList = pd.concat([planeList, allPlanes[j]])\n",
    "planeList.drop(columns=['Fuel burn', 'Fuel per seat'], inplace=True)\n",
    "planeList.to_csv('planes.csv', index=False)"
   ]
  },
  {
   "cell_type": "code",
   "execution_count": 170,
   "id": "d93568f5",
   "metadata": {},
   "outputs": [],
   "source": [
    "carUrl = 'https://www.nrcan.gc.ca/sites/nrcan/files/oee/files/csv/MY2022%20Fuel%20Consumption%20Ratings.csv'\n",
    "dfAllCars = pd.read_csv(carUrl, encoding_errors='ignore', low_memory=False)\n",
    "\n",
    "dfAllCars = dfAllCars[['Model', 'Make', 'Model.1', 'Vehicle Class', 'Engine Size', 'Cylinders',\n",
    "                       'Transmission', 'Fuel', 'Fuel Consumption', 'Unnamed: 9', 'Unnamed: 10',\n",
    "                       'Unnamed: 11', 'CO2 Emissions', 'CO2']]\n",
    "dfAllCars = dfAllCars.rename(columns={'Model':'Model Year', 'Model.1': 'Model', \n",
    "                                      'Engine Size': 'Engine Size (L)', 'Fuel': 'Fuel Type', \n",
    "                                      'Fuel Consumption': 'Fuel Consumption: City (L/100km)', \n",
    "                                      'Unnamed: 9': 'Fuel Consumption: Highway (L/100km)',\n",
    "                                      'Unnamed: 10': 'Fuel Consumption: Combined (L/100km)',\n",
    "                                      'Unnamed: 11': 'Fuel Consumption: Combined (mpg)',\n",
    "                                      'CO2 Emissions': 'CO2 Emissions (g/km)',\n",
    "                                      'CO2': 'CO2 Ratings'})\n",
    "dfAllCars = dfAllCars[dfAllCars['Model Year'].str.isnumeric() == True]\n",
    "dfAllCars.to_csv('cars.csv', index=False)"
   ]
  }
 ],
 "metadata": {
  "kernelspec": {
   "display_name": "Python 3 (ipykernel)",
   "language": "python",
   "name": "python3"
  },
  "language_info": {
   "codemirror_mode": {
    "name": "ipython",
    "version": 3
   },
   "file_extension": ".py",
   "mimetype": "text/x-python",
   "name": "python",
   "nbconvert_exporter": "python",
   "pygments_lexer": "ipython3",
   "version": "3.9.12"
  }
 },
 "nbformat": 4,
 "nbformat_minor": 5
}
